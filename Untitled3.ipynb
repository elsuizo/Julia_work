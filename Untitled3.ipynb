{
 "cells": [
  {
   "cell_type": "code",
   "execution_count": 1,
   "metadata": {
    "collapsed": true
   },
   "outputs": [],
   "source": [
    "macro generate_vanderish(N)\n",
    "    e123 = Array(Tuple{Int,Int,Int,Int},0) # (index,e1,e2,e3) exponents\n",
    "    i = 0\n",
    "    for e1=0:N\n",
    "        for e2=0:N-e1\n",
    "            i += 1\n",
    "            push!(e123,(i,e1,e2,N-e1-e2))\n",
    "        end\n",
    "    end\n",
    "    M = length(e123)\n",
    "    vanderish! = esc(symbol(string(\"vanderish\",N,\"!\")))\n",
    "    vanderish = esc(symbol(string(\"vanderish\",N,)))\n",
    "    quote\n",
    "        function $vanderish!(Y, X)\n",
    "            size(X,1) != 3 && error(\"X must be 3xM matrix\")\n",
    "            size(Y,2) != size(X,2) && error(\"mismatched #cols in Y and X\")\n",
    "            size(Y,1) != $M && error(\"Y must have \", $M, \" rows\")\n",
    "            for j = 1:size(X,2)\n",
    "                x1 = X[1,j]\n",
    "                x2 = X[2,j]\n",
    "                x3 = X[3,j]\n",
    "                $(Expr(:block,\n",
    "                   [:(Y[$i,j] = x1^$e1 * x2^$e2 * x3^$e3) \n",
    "                    for (i,e1,e2,e3) in e123]...))\n",
    "            end\n",
    "            return Y\n",
    "        end\n",
    "        function $vanderish(X)\n",
    "            Y = similar(X, $M, size(X,2))\n",
    "            $vanderish!(Y, X)\n",
    "        end\n",
    "    end\n",
    "end"
   ]
  },
  {
   "cell_type": "code",
   "execution_count": 2,
   "metadata": {
    "collapsed": false
   },
   "outputs": [
    {
     "data": {
      "text/plain": [
       "vanderish3 (generic function with 1 method)"
      ]
     },
     "execution_count": 2,
     "metadata": {},
     "output_type": "execute_result"
    }
   ],
   "source": [
    "@generate_vanderish(3)"
   ]
  },
  {
   "cell_type": "code",
   "execution_count": 6,
   "metadata": {
    "collapsed": false
   },
   "outputs": [
    {
     "data": {
      "text/plain": [
       "10x10 Array{Int32,2}:\n",
       "  1  11  21  31  41  51  61  71  81   91\n",
       "  2  12  22  32  42  52  62  72  82   92\n",
       "  3  13  23  33  43  53  63  73  83   93\n",
       "  4  14  24  34  44  54  64  74  84   94\n",
       "  5  15  25  35  45  55  65  75  85   95\n",
       "  6  16  26  36  46  56  66  76  86   96\n",
       "  7  17  27  37  47  57  67  77  87   97\n",
       "  8  18  28  38  48  58  68  78  88   98\n",
       "  9  19  29  39  49  59  69  79  89   99\n",
       " 10  20  30  40  50  60  70  80  90  100"
      ]
     },
     "execution_count": 6,
     "metadata": {},
     "output_type": "execute_result"
    }
   ],
   "source": [
    "a = reshape(1:100,10,10)"
   ]
  },
  {
   "cell_type": "code",
   "execution_count": 7,
   "metadata": {
    "collapsed": false
   },
   "outputs": [
    {
     "ename": "LoadError",
     "evalue": "X must be 3xM matrix\nwhile loading In[7], in expression starting on line 1",
     "output_type": "error",
     "traceback": [
      "X must be 3xM matrix\nwhile loading In[7], in expression starting on line 1",
      "",
      " in vanderish3! at In[1]:15",
      " in vanderish3 at In[1]:30"
     ]
    }
   ],
   "source": [
    "vanderish3(a)"
   ]
  },
  {
   "cell_type": "code",
   "execution_count": null,
   "metadata": {
    "collapsed": true
   },
   "outputs": [],
   "source": []
  }
 ],
 "metadata": {
  "kernelspec": {
   "display_name": "Julia 0.3.8",
   "language": "julia",
   "name": "julia-0.3"
  },
  "language_info": {
   "name": "julia",
   "version": "0.3.8"
  }
 },
 "nbformat": 4,
 "nbformat_minor": 0
}
