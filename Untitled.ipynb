{
 "cells": [
  {
   "cell_type": "code",
   "execution_count": 60,
   "metadata": {
    "collapsed": false
   },
   "outputs": [
    {
     "ename": "LoadError",
     "evalue": "`mapinfo` has no method matching mapinfo(::Type{ImageMagick}, ::ImageCmap{RGB{T<:Union(FixedPoint,FloatingPoint)},2,Array{Gray{Float32},2}})\nwhile loading In[60], in expression starting on line 22",
     "output_type": "error",
     "traceback": [
      "`mapinfo` has no method matching mapinfo(::Type{ImageMagick}, ::ImageCmap{RGB{T<:Union(FixedPoint,FloatingPoint)},2,Array{Gray{Float32},2}})\nwhile loading In[60], in expression starting on line 22",
      "",
      " in imwrite at /home/elsuizo/.julia/v0.3/Images/src/io.jl:189"
     ]
    }
   ],
   "source": [
    "using Images, Color \n",
    "\n",
    "# build a sample image \n",
    "datafloat = reshape(linspace(0.5, 1.5, 60000), 200, 300) \n",
    "img_gray = imread(\"/home/elsuizo/images/galaxy_gray.jpeg\")\n",
    "A = convert(Array,img_gray)\n",
    "# convert the raw 0.5:1.5 data to a integer type, so we can index \n",
    "dataint = iround(Uint8, 254*(datafloat - 0.5) + 1)  # ranges from 1 to 255 \n",
    "# build our colormap \n",
    "b = RGB(0,0,1) \n",
    "w = RGB(1,1,1) \n",
    "r = RGB(1,0,0) \n",
    "cmaprgb = Array(RGB, 255) \n",
    "f = linspace(0,1,255) \n",
    "cmaprgb[1:128] = [(1-x)*b + x*w for x in f[1:128]] \n",
    "cmaprgb[129:end] = [(1-x)*w + x*r for x in f[129:end]] \n",
    "\n",
    "\n",
    "img = ImageCmap(float32(A), cmaprgb) \n",
    "\n",
    "\n",
    "imwrite(img,\"image.jpg\")"
   ]
  },
  {
   "cell_type": "code",
   "execution_count": 62,
   "metadata": {
    "collapsed": false
   },
   "outputs": [
    {
     "ename": "MethodError",
     "evalue": "`checkbounds` has no method matching checkbounds(::Int32, ::Array{Gray{Float32},1})",
     "output_type": "error",
     "traceback": [
      "`checkbounds` has no method matching checkbounds(::Int32, ::Array{Gray{Float32},1})",
      "",
      " in checkbounds at abstractarray.jl:94",
      " in convert at /home/elsuizo/.julia/v0.3/Images/src/core.jl:207",
      " in writemime at /home/elsuizo/.julia/v0.3/Images/src/io.jl:211",
      " in base64 at base64.jl:125",
      " in display_dict at /home/elsuizo/.julia/v0.3/IJulia/src/execute_request.jl:31"
     ]
    }
   ],
   "source": [
    "img"
   ]
  },
  {
   "cell_type": "code",
   "execution_count": 61,
   "metadata": {
    "collapsed": false
   },
   "outputs": [
    {
     "data": {
      "text/plain": [
       "Gray Image with:\n",
       "  data: 495x640 Array{UfixedBase{Uint8,8},2}\n",
       "  properties:\n",
       "    colorspace: Gray\n",
       "    spatialorder:  y x\n",
       "    pixelspacing:  1 1\n",
       "    colordim: 2\n",
       "    IMcs: Gray"
      ]
     },
     "execution_count": 61,
     "metadata": {},
     "output_type": "execute_result"
    }
   ],
   "source": [
    "S = separate(img_gray)"
   ]
  },
  {
   "cell_type": "code",
   "execution_count": 53,
   "metadata": {
    "collapsed": false
   },
   "outputs": [
    {
     "data": {
      "text/plain": [
       "495x640 Array{Gray{UfixedBase{Uint8,8}},2}:\n",
       " Gray{Ufixed8}(0.275)  Gray{Ufixed8}(0.255)  …  Gray{Ufixed8}(0.102)\n",
       " Gray{Ufixed8}(0.255)  Gray{Ufixed8}(0.243)     Gray{Ufixed8}(0.102)\n",
       " Gray{Ufixed8}(0.243)  Gray{Ufixed8}(0.251)     Gray{Ufixed8}(0.114)\n",
       " Gray{Ufixed8}(0.251)  Gray{Ufixed8}(0.267)     Gray{Ufixed8}(0.122)\n",
       " Gray{Ufixed8}(0.255)  Gray{Ufixed8}(0.267)     Gray{Ufixed8}(0.106)\n",
       " Gray{Ufixed8}(0.259)  Gray{Ufixed8}(0.259)  …  Gray{Ufixed8}(0.078)\n",
       " Gray{Ufixed8}(0.275)  Gray{Ufixed8}(0.255)     Gray{Ufixed8}(0.086)\n",
       " Gray{Ufixed8}(0.294)  Gray{Ufixed8}(0.267)     Gray{Ufixed8}(0.11) \n",
       " Gray{Ufixed8}(0.278)  Gray{Ufixed8}(0.275)     Gray{Ufixed8}(0.09) \n",
       " Gray{Ufixed8}(0.282)  Gray{Ufixed8}(0.267)     Gray{Ufixed8}(0.133)\n",
       " Gray{Ufixed8}(0.275)  Gray{Ufixed8}(0.263)  …  Gray{Ufixed8}(0.133)\n",
       " Gray{Ufixed8}(0.267)  Gray{Ufixed8}(0.267)     Gray{Ufixed8}(0.106)\n",
       " Gray{Ufixed8}(0.275)  Gray{Ufixed8}(0.271)     Gray{Ufixed8}(0.106)\n",
       " ⋮                                           ⋱                      \n",
       " Gray{Ufixed8}(0.082)  Gray{Ufixed8}(0.082)     Gray{Ufixed8}(0.294)\n",
       " Gray{Ufixed8}(0.106)  Gray{Ufixed8}(0.102)     Gray{Ufixed8}(0.325)\n",
       " Gray{Ufixed8}(0.102)  Gray{Ufixed8}(0.094)  …  Gray{Ufixed8}(0.302)\n",
       " Gray{Ufixed8}(0.082)  Gray{Ufixed8}(0.082)     Gray{Ufixed8}(0.275)\n",
       " Gray{Ufixed8}(0.094)  Gray{Ufixed8}(0.098)     Gray{Ufixed8}(0.294)\n",
       " Gray{Ufixed8}(0.082)  Gray{Ufixed8}(0.086)     Gray{Ufixed8}(0.294)\n",
       " Gray{Ufixed8}(0.075)  Gray{Ufixed8}(0.078)     Gray{Ufixed8}(0.294)\n",
       " Gray{Ufixed8}(0.067)  Gray{Ufixed8}(0.071)  …  Gray{Ufixed8}(0.306)\n",
       " Gray{Ufixed8}(0.071)  Gray{Ufixed8}(0.075)     Gray{Ufixed8}(0.298)\n",
       " Gray{Ufixed8}(0.082)  Gray{Ufixed8}(0.082)     Gray{Ufixed8}(0.286)\n",
       " Gray{Ufixed8}(0.086)  Gray{Ufixed8}(0.09)      Gray{Ufixed8}(0.306)\n",
       " Gray{Ufixed8}(0.086)  Gray{Ufixed8}(0.09)      Gray{Ufixed8}(0.318)"
      ]
     },
     "execution_count": 53,
     "metadata": {},
     "output_type": "execute_result"
    }
   ],
   "source": [
    "A = convert(Array,img_gray)"
   ]
  },
  {
   "cell_type": "code",
   "execution_count": 55,
   "metadata": {
    "collapsed": false
   },
   "outputs": [
    {
     "data": {
      "text/plain": [
       "640x495 Array{Gray{UfixedBase{Uint8,8}},2}:\n",
       " Gray{Ufixed8}(0.275)  Gray{Ufixed8}(0.255)  …  Gray{Ufixed8}(0.086)\n",
       " Gray{Ufixed8}(0.255)  Gray{Ufixed8}(0.243)     Gray{Ufixed8}(0.09) \n",
       " Gray{Ufixed8}(0.251)  Gray{Ufixed8}(0.243)     Gray{Ufixed8}(0.094)\n",
       " Gray{Ufixed8}(0.271)  Gray{Ufixed8}(0.255)     Gray{Ufixed8}(0.098)\n",
       " Gray{Ufixed8}(0.278)  Gray{Ufixed8}(0.263)     Gray{Ufixed8}(0.098)\n",
       " Gray{Ufixed8}(0.259)  Gray{Ufixed8}(0.255)  …  Gray{Ufixed8}(0.098)\n",
       " Gray{Ufixed8}(0.247)  Gray{Ufixed8}(0.247)     Gray{Ufixed8}(0.094)\n",
       " Gray{Ufixed8}(0.255)  Gray{Ufixed8}(0.247)     Gray{Ufixed8}(0.094)\n",
       " Gray{Ufixed8}(0.224)  Gray{Ufixed8}(0.259)     Gray{Ufixed8}(0.086)\n",
       " Gray{Ufixed8}(0.247)  Gray{Ufixed8}(0.259)     Gray{Ufixed8}(0.082)\n",
       " Gray{Ufixed8}(0.275)  Gray{Ufixed8}(0.263)  …  Gray{Ufixed8}(0.09) \n",
       " Gray{Ufixed8}(0.282)  Gray{Ufixed8}(0.259)     Gray{Ufixed8}(0.098)\n",
       " Gray{Ufixed8}(0.271)  Gray{Ufixed8}(0.247)     Gray{Ufixed8}(0.094)\n",
       " ⋮                                           ⋱                      \n",
       " Gray{Ufixed8}(0.11)   Gray{Ufixed8}(0.11)      Gray{Ufixed8}(0.318)\n",
       " Gray{Ufixed8}(0.102)  Gray{Ufixed8}(0.106)     Gray{Ufixed8}(0.318)\n",
       " Gray{Ufixed8}(0.118)  Gray{Ufixed8}(0.114)  …  Gray{Ufixed8}(0.306)\n",
       " Gray{Ufixed8}(0.149)  Gray{Ufixed8}(0.133)     Gray{Ufixed8}(0.306)\n",
       " Gray{Ufixed8}(0.098)  Gray{Ufixed8}(0.118)     Gray{Ufixed8}(0.306)\n",
       " Gray{Ufixed8}(0.102)  Gray{Ufixed8}(0.122)     Gray{Ufixed8}(0.306)\n",
       " Gray{Ufixed8}(0.106)  Gray{Ufixed8}(0.122)     Gray{Ufixed8}(0.31) \n",
       " Gray{Ufixed8}(0.106)  Gray{Ufixed8}(0.114)  …  Gray{Ufixed8}(0.31) \n",
       " Gray{Ufixed8}(0.098)  Gray{Ufixed8}(0.102)     Gray{Ufixed8}(0.298)\n",
       " Gray{Ufixed8}(0.094)  Gray{Ufixed8}(0.098)     Gray{Ufixed8}(0.286)\n",
       " Gray{Ufixed8}(0.098)  Gray{Ufixed8}(0.098)     Gray{Ufixed8}(0.298)\n",
       " Gray{Ufixed8}(0.102)  Gray{Ufixed8}(0.102)     Gray{Ufixed8}(0.318)"
      ]
     },
     "execution_count": 55,
     "metadata": {},
     "output_type": "execute_result"
    }
   ],
   "source": [
    "D = img_gray.data"
   ]
  },
  {
   "cell_type": "code",
   "execution_count": 68,
   "metadata": {
    "collapsed": false
   },
   "outputs": [
    {
     "ename": "LoadError",
     "evalue": "InexactError()\nwhile loading In[68], in expression starting on line 1",
     "output_type": "error",
     "traceback": [
      "InexactError()\nwhile loading In[68], in expression starting on line 1",
      "",
      " in int32 at abstractarray.jl:273"
     ]
    }
   ],
   "source": [
    "int32(img_gray)"
   ]
  },
  {
   "cell_type": "code",
   "execution_count": 65,
   "metadata": {
    "collapsed": false
   },
   "outputs": [
    {
     "data": {
      "text/plain": [
       "128-element Array{Int32,1}:\n",
       " 0\n",
       " 0\n",
       " 0\n",
       " 0\n",
       " 0\n",
       " 0\n",
       " 0\n",
       " 0\n",
       " 0\n",
       " 0\n",
       " 0\n",
       " 0\n",
       " 0\n",
       " ⋮\n",
       " 1\n",
       " 1\n",
       " 1\n",
       " 1\n",
       " 1\n",
       " 1\n",
       " 1\n",
       " 1\n",
       " 1\n",
       " 1\n",
       " 1\n",
       " 1"
      ]
     },
     "execution_count": 65,
     "metadata": {},
     "output_type": "execute_result"
    }
   ],
   "source": [
    "int32(linspace(0,1,128))"
   ]
  },
  {
   "cell_type": "code",
   "execution_count": null,
   "metadata": {
    "collapsed": true
   },
   "outputs": [],
   "source": []
  }
 ],
 "metadata": {
  "kernelspec": {
   "display_name": "Julia 0.3.8",
   "language": "julia",
   "name": "julia-0.3"
  },
  "language_info": {
   "name": "julia",
   "version": "0.3.8"
  }
 },
 "nbformat": 4,
 "nbformat_minor": 0
}
