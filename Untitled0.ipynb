{
 "metadata": {
  "language": "Julia",
  "name": "",
  "signature": "sha256:5700f052377aab6c537d00ac45c39742f1e9d5f5a368908e862ccfe7709b07ae"
 },
 "nbformat": 3,
 "nbformat_minor": 0,
 "worksheets": [
  {
   "cells": [
    {
     "cell_type": "markdown",
     "metadata": {},
     "source": [
      "##Numerical Methods\n"
     ]
    },
    {
     "cell_type": "markdown",
     "metadata": {},
     "source": [
      "### Forward substitution\n",
      "\n",
      "Cuando tenemos un sistema triangular de la forma:\n",
      "\n",
      "$$\\mathbf{L}x = \\mathbf{b}$$\n",
      "\n",
      "Donde $\\mathbf{L}$ es una matriz traingular inferior, resolvemos desde arriba hacia abajo."
     ]
    },
    {
     "cell_type": "code",
     "collapsed": false,
     "input": [
      "function forward_subs(L, b)\n",
      "    \n",
      "    n, m = size(L)\n",
      "    if n != m \n",
      "        error(\"The matrix must be square\")\n",
      "    end\n",
      "    if minimum(abs(diag(L))) == 0 \n",
      "        error(\"The system is singular\")\n",
      "    end\n",
      "    x = zeros(n,n)\n",
      "    \n",
      "    x[1,1] = b[1] / L[1,1]\n",
      "    \n",
      "    for i in 2:n\n",
      "        \n",
      "        x[i,1] = (b[i] - L[i, 1:i-1] * x[1:i-1, 1]) / L[i,i]\n",
      "    end\n",
      "    \n",
      "    return x\n",
      "end"
     ],
     "language": "python",
     "metadata": {},
     "outputs": [
      {
       "metadata": {},
       "output_type": "pyout",
       "prompt_number": 1,
       "text": [
        "forward_subs (generic function with 1 method)"
       ]
      }
     ],
     "prompt_number": 1
    },
    {
     "cell_type": "code",
     "collapsed": false,
     "input": [
      "A = rand(4,4)"
     ],
     "language": "python",
     "metadata": {},
     "outputs": [
      {
       "metadata": {},
       "output_type": "pyout",
       "prompt_number": 2,
       "text": [
        "4x4 Array{Float64,2}:\n",
        " 0.599657   0.148835  0.706526   0.93112  \n",
        " 0.0024679  0.738917  0.575468   0.391529 \n",
        " 0.380267   0.709566  0.0887722  0.0386882\n",
        " 0.945006   0.82244   0.756329   0.275642 "
       ]
      }
     ],
     "prompt_number": 2
    },
    {
     "cell_type": "code",
     "collapsed": false,
     "input": [
      "x = ones(4)"
     ],
     "language": "python",
     "metadata": {},
     "outputs": [
      {
       "metadata": {},
       "output_type": "pyout",
       "prompt_number": 3,
       "text": [
        "4-element Array{Float64,1}:\n",
        " 1.0\n",
        " 1.0\n",
        " 1.0\n",
        " 1.0"
       ]
      }
     ],
     "prompt_number": 3
    },
    {
     "cell_type": "code",
     "collapsed": false,
     "input": [
      "b = A * x"
     ],
     "language": "python",
     "metadata": {},
     "outputs": [
      {
       "metadata": {},
       "output_type": "pyout",
       "prompt_number": 4,
       "text": [
        "4-element Array{Float64,1}:\n",
        " 2.38614\n",
        " 1.70838\n",
        " 1.21729\n",
        " 2.79942"
       ]
      }
     ],
     "prompt_number": 4
    },
    {
     "cell_type": "code",
     "collapsed": false,
     "input": [
      "B = lufact(A)"
     ],
     "language": "python",
     "metadata": {},
     "outputs": [
      {
       "metadata": {},
       "output_type": "pyout",
       "prompt_number": 5,
       "text": [
        "LU{Float64,Array{Float64,2}}(4x4 Array{Float64,2}:\n",
        " 0.945006     0.82244    0.756329  0.275642\n",
        " 0.00261151   0.736769   0.573493  0.390809\n",
        " 0.634553    -0.506328   0.51697   0.954087\n",
        " 0.402396     0.513892  -0.987068  0.668687,[4,2,4,4],0)"
       ]
      }
     ],
     "prompt_number": 5
    },
    {
     "cell_type": "code",
     "collapsed": false,
     "input": [
      "B"
     ],
     "language": "python",
     "metadata": {},
     "outputs": [
      {
       "metadata": {},
       "output_type": "pyout",
       "prompt_number": 6,
       "text": [
        "LU{Float64,Array{Float64,2}}(4x4 Array{Float64,2}:\n",
        " 0.945006     0.82244    0.756329  0.275642\n",
        " 0.00261151   0.736769   0.573493  0.390809\n",
        " 0.634553    -0.506328   0.51697   0.954087\n",
        " 0.402396     0.513892  -0.987068  0.668687,[4,2,4,4],0)"
       ]
      }
     ],
     "prompt_number": 6
    },
    {
     "cell_type": "code",
     "collapsed": false,
     "input": [
      "L,U = lu(A)"
     ],
     "language": "python",
     "metadata": {},
     "outputs": [
      {
       "metadata": {},
       "output_type": "pyout",
       "prompt_number": 7,
       "text": [
        "(\n",
        "4x4 Array{Float64,2}:\n",
        " 1.0          0.0        0.0       0.0\n",
        " 0.00261151   1.0        0.0       0.0\n",
        " 0.634553    -0.506328   1.0       0.0\n",
        " 0.402396     0.513892  -0.987068  1.0,\n",
        "\n",
        "4x4 Array{Float64,2}:\n",
        " 0.945006  0.82244   0.756329  0.275642\n",
        " 0.0       0.736769  0.573493  0.390809\n",
        " 0.0       0.0       0.51697   0.954087\n",
        " 0.0       0.0       0.0       0.668687,\n",
        "\n",
        "[4,2,1,3])"
       ]
      }
     ],
     "prompt_number": 7
    },
    {
     "cell_type": "code",
     "collapsed": false,
     "input": [
      "L"
     ],
     "language": "python",
     "metadata": {},
     "outputs": [
      {
       "metadata": {},
       "output_type": "pyout",
       "prompt_number": 8,
       "text": [
        "4x4 Array{Float64,2}:\n",
        " 1.0          0.0        0.0       0.0\n",
        " 0.00261151   1.0        0.0       0.0\n",
        " 0.634553    -0.506328   1.0       0.0\n",
        " 0.402396     0.513892  -0.987068  1.0"
       ]
      }
     ],
     "prompt_number": 8
    },
    {
     "cell_type": "code",
     "collapsed": false,
     "input": [
      "x_sol = forward_subs(L, b)"
     ],
     "language": "python",
     "metadata": {},
     "outputs": [
      {
       "ename": "LoadError",
       "evalue": "`convert` has no method matching convert(::Type{Float64}, ::Array{Float64,1})\nwhile loading In[9], in expression starting on line 1",
       "output_type": "pyerr",
       "traceback": [
        "`convert` has no method matching convert(::Type{Float64}, ::Array{Float64,1})\nwhile loading In[9], in expression starting on line 1",
        " in forward_subs at In[1]:16"
       ]
      }
     ],
     "prompt_number": 9
    },
    {
     "cell_type": "code",
     "collapsed": false,
     "input": [
      "minimum(A)"
     ],
     "language": "python",
     "metadata": {},
     "outputs": [
      {
       "metadata": {},
       "output_type": "pyout",
       "prompt_number": 10,
       "text": [
        "0.0024678966483591136"
       ]
      }
     ],
     "prompt_number": 10
    },
    {
     "cell_type": "code",
     "collapsed": false,
     "input": [
      "x = zeros(3,3)"
     ],
     "language": "python",
     "metadata": {},
     "outputs": [
      {
       "metadata": {},
       "output_type": "pyout",
       "prompt_number": 12,
       "text": [
        "3x3 Array{Float64,2}:\n",
        " 0.0  0.0  0.0\n",
        " 0.0  0.0  0.0\n",
        " 0.0  0.0  0.0"
       ]
      }
     ],
     "prompt_number": 12
    },
    {
     "cell_type": "code",
     "collapsed": false,
     "input": [],
     "language": "python",
     "metadata": {},
     "outputs": []
    }
   ],
   "metadata": {}
  }
 ]
}