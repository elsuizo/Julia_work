{
 "metadata": {
  "language": "Julia",
  "name": "",
  "signature": "sha256:67881d5041b20654dbc06ff66f7cddda236c28f3e49c506b7ff3a4088f1e990a"
 },
 "nbformat": 3,
 "nbformat_minor": 0,
 "worksheets": [
  {
   "cells": [
    {
     "cell_type": "heading",
     "level": 1,
     "metadata": {},
     "source": [
      "Resumen de Image.jl "
     ]
    },
    {
     "cell_type": "markdown",
     "metadata": {},
     "source": [
      "##Image Type\n",
      "______________\n",
      "\n",
      "Todas las im\u00e1genes deben descender del Abstract Type: *AbstractImage* , que a su vez tiene dos Abstract Types m\u00e1s como hijos:\n",
      "\n",
      "* AbstractImageDirect: Representa a los pixeles directamente con su intensidad\n",
      "\n",
      "* AbstractImageIndexed: Representa a los pixeles mediante una looked up table(Averiguar como)\n",
      "\n",
      "Los types anteriores nos sirven si queremos una representaci\u00f3n de las imagenes customizada a nuestras necesidades. El concrete type(Como lo implementa el package) con el que se representan a las im\u00e1genes tiene la forma:\n",
      "\n",
      "-------------------------------------------------------------------\n",
      "type Image{T,N,A<:AbstractArray} <: AbstractImageDirect{T,N}\n",
      "    \n",
      "    data::A\n",
      "    properties::Dict\n",
      "    \n",
      "end\n",
      "\n",
      "-------------------------------------------------------------------\n",
      "\n",
      "Donde A almacena los datos de la imagen y que debe ser algunos de las implementaciones del *AbstractArray*, con el que podemos obtener un amplio rango de representaciones(Puede ser un custom type que tenga representaciones mas finas(ejemplo: ROIs?\u00bf)). Un ejemplo es el type *Overlays* del autor.\n",
      "\n",
      "properties es un diccionario con *String* keys .\n",
      "\n",
      "El \u00fanico ejemplo de concrete type para imagenes indexadas es el siguiente:\n",
      "\n",
      "type ImageCmap{T,N,A<:AbstractArray,C<:AbstractArray} <: AbstractImageIndexed{T,N}\n",
      "    data::A\n",
      "    cmap::C\n",
      "    properties::Dict\n",
      "end\n",
      "\n",
      "data solo codifica los valores que son interpolados en la lookup table C?\u00bf\n",
      "\n",
      "\n"
     ]
    },
    {
     "cell_type": "markdown",
     "metadata": {},
     "source": [
      "##Dirigiendose a los datos de la imagen\n",
      "\n",
      "Para cualquier type de imagen v\u00e1lido:\n",
      "\n",
      "**data(img)**\n",
      "\n",
      "devuelve el Array que guarda la info de la imagen. Si img es una *Image* valida --> si hacemos **img[i,j]** ser\u00e1 lo mismo que hacer **img.data[i,j]** Las asignaciones especiales **sub** y **slice** funcionan de la misma manera, o sea que esto nos permite tratar a las imagenes como *Array* type.\n",
      "\n",
      "Si leemos una imagen con el comando **imread** este no cambia la representaci\u00f3n con la que esta guardada en el disco-duro o sea en la forma color-horizontal-vertical, lo que nos representar\u00e1 que accederemos a el pixel $(x,y)$ como: **img[:,x,y]**, notar que esto es muy diferente a la representaci\u00f3n por defecto de Matlab.\n",
      "\n",
      "Si hacemos slicing sobre los datos de una Image y queremos que nos devuelva una Imagen nueva debemos utilizar:\n",
      "\n",
      "**getindexim**\n",
      "\n",
      "**subim**\n",
      "\n",
      "**sliceim**\n",
      "\n",
      "Para los primeros dos, la imagen resultante compartira todos los atributos con la original, pero si **data** es modificada se modificara en las dos. En cambio para **sliceim** como esta puede cambiar la dimensionalidad algunos ajuste de propiedades son necesarios(interpola?\u00bf?\u00bf) por eso se realiza una copia. \n",
      "\n",
      "Una de las propiedades que se le pueden otorgar a las imagenes es **spatialorder** que proporciona un nombre para cada dimensi\u00f3n espacial en la imagen. Usando esta propiedad podemos hacer slicing y cortar la imagen de manera natural. \n",
      "\n",
      "```julia\n",
      "\n",
      "A = img[\"x\", 200:400, \"y\", 500:700]\n",
      "imgs = sliceim(img, \"z\", 14)      # cuts out the 14th frame in a stack\n",
      "\n",
      "\n",
      "```\n",
      "\n",
      "Con estas rutinas nos olvidamos de que manera son leidas y almacenadas las imagenes y puede hacerse todo de manera m\u00e1s general.\n"
     ]
    },
    {
     "cell_type": "code",
     "collapsed": false,
     "input": [],
     "language": "python",
     "metadata": {},
     "outputs": []
    }
   ],
   "metadata": {}
  }
 ]
}