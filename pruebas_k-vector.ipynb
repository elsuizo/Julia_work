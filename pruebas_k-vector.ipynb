{
 "metadata": {
  "language": "Julia",
  "name": "",
  "signature": "sha256:9c1d5e35cafc0053de908e4760eb82cf3d0cc2f834aff0123bc293ec65c57379"
 },
 "nbformat": 3,
 "nbformat_minor": 0,
 "worksheets": [
  {
   "cells": [
    {
     "cell_type": "markdown",
     "metadata": {},
     "source": [
      "K-vector search technique with Julia \n",
      "----------------------\n",
      "\n",
      "\n"
     ]
    },
    {
     "cell_type": "markdown",
     "metadata": {},
     "source": [
      "Based : \"A K-VECTOR APPROACH TO SAMPLING, INTERPOLATION, AND\n",
      "APPROXIMATION\" Daniele Mortari and Jonathan Rogers"
     ]
    },
    {
     "cell_type": "markdown",
     "metadata": {},
     "source": [
      "Start with the pre-processing of the algorithm"
     ]
    },
    {
     "cell_type": "code",
     "collapsed": false,
     "input": [
      "n = 10000 # number of elements in data-base"
     ],
     "language": "python",
     "metadata": {},
     "outputs": [
      {
       "metadata": {},
       "output_type": "pyout",
       "prompt_number": 44,
       "text": [
        "10000"
       ]
      }
     ],
     "prompt_number": 44
    },
    {
     "cell_type": "code",
     "collapsed": false,
     "input": [
      "y = zeros(n)  # data-base\n",
      "s = zeros(n)  # vector store the data-base sorted\n",
      "i = zeros(n)  # index of sorting\n",
      "k = zeros(n)  # k-vector\n",
      "y_search = zeros(n)  # search vector\n",
      "vec_aux = zeros(n)   # \n",
      "epsilon = eps(Float64)  # precision machine\n",
      "delta_epsilon = (n - 1) * epsilon"
     ],
     "language": "python",
     "metadata": {},
     "outputs": [
      {
       "metadata": {},
       "output_type": "pyout",
       "prompt_number": 45,
       "text": [
        "2.220224004645388e-12"
       ]
      }
     ],
     "prompt_number": 45
    },
    {
     "cell_type": "code",
     "collapsed": false,
     "input": [
      "# generating a random data-base of float \\in (0,1)\n",
      "y = rand(n);"
     ],
     "language": "python",
     "metadata": {},
     "outputs": [],
     "prompt_number": 45
    },
    {
     "cell_type": "code",
     "collapsed": false,
     "input": [
      "s = sort(y);"
     ],
     "language": "python",
     "metadata": {},
     "outputs": [],
     "prompt_number": 45
    },
    {
     "cell_type": "code",
     "collapsed": false,
     "input": [
      "v_min = s[1];\n",
      "v_max = s[end];"
     ],
     "language": "python",
     "metadata": {},
     "outputs": [],
     "prompt_number": 45
    },
    {
     "cell_type": "code",
     "collapsed": false,
     "input": [
      "m = (v_max - v_min + 2 * delta_epsilon) / (n - 1);"
     ],
     "language": "python",
     "metadata": {},
     "outputs": [],
     "prompt_number": 45
    },
    {
     "cell_type": "code",
     "collapsed": false,
     "input": [
      "q = v_min - m - delta_epsilon;"
     ],
     "language": "python",
     "metadata": {},
     "outputs": [],
     "prompt_number": 45
    },
    {
     "cell_type": "code",
     "collapsed": false,
     "input": [
      "# anonymous function \n",
      "z = map(x -> m * x + q, [1:n]);"
     ],
     "language": "python",
     "metadata": {},
     "outputs": [],
     "prompt_number": 45
    },
    {
     "cell_type": "code",
     "collapsed": false,
     "input": [
      "k[1] = 0 ;\n",
      "k[end] = n;"
     ],
     "language": "python",
     "metadata": {},
     "outputs": [],
     "prompt_number": 45
    },
    {
     "cell_type": "code",
     "collapsed": false,
     "input": [
      "# K-vector construction\n",
      "for ind in [2:n-1]\n",
      "    vec_aux = s .< z[ind]\n",
      "    k[ind] = sum(vec_aux)\n",
      "end"
     ],
     "language": "python",
     "metadata": {},
     "outputs": [],
     "prompt_number": 46
    },
    {
     "cell_type": "code",
     "collapsed": false,
     "input": [
      "# Range of Search \n",
      "y_a = .3 \n",
      "y_b = .7\n"
     ],
     "language": "python",
     "metadata": {},
     "outputs": [
      {
       "metadata": {},
       "output_type": "pyout",
       "prompt_number": 47,
       "text": [
        "0.7"
       ]
      }
     ],
     "prompt_number": 47
    },
    {
     "cell_type": "code",
     "collapsed": false,
     "input": [
      "j_b = floor((y_a - q ) / m)\n",
      "j_t = ceil((y_b - q ) / m)\n"
     ],
     "language": "python",
     "metadata": {},
     "outputs": [
      {
       "metadata": {},
       "output_type": "pyout",
       "prompt_number": 48,
       "text": [
        "7001.0"
       ]
      }
     ],
     "prompt_number": 48
    },
    {
     "cell_type": "code",
     "collapsed": false,
     "input": [
      "k_start = k[j_b] + 1\n",
      "k_end = k[j_t]\n",
      "\n",
      "k_search = [k_start:k_end]\n",
      "\n",
      "y_search = s[k_search]"
     ],
     "language": "python",
     "metadata": {},
     "outputs": [
      {
       "metadata": {},
       "output_type": "pyout",
       "prompt_number": 49,
       "text": [
        "3966-element Array{Float64,1}:\n",
        " 0.299971\n",
        " 0.300023\n",
        " 0.300111\n",
        " 0.30013 \n",
        " 0.300304\n",
        " 0.300308\n",
        " 0.300374\n",
        " 0.300541\n",
        " 0.300634\n",
        " 0.300725\n",
        " 0.300741\n",
        " 0.300789\n",
        " 0.300837\n",
        " \u22ee       \n",
        " 0.698703\n",
        " 0.69886 \n",
        " 0.698936\n",
        " 0.698948\n",
        " 0.699027\n",
        " 0.699214\n",
        " 0.699274\n",
        " 0.699334\n",
        " 0.699466\n",
        " 0.699479\n",
        " 0.69971 \n",
        " 0.699966"
       ]
      }
     ],
     "prompt_number": 49
    },
    {
     "cell_type": "code",
     "collapsed": false,
     "input": [
      "if y_search[1] < y_a \n",
      "   deleteat!(y_search, 1)\n",
      "end \n",
      "\n",
      "if y_search[end] > y_b \n",
      "deleteat!(y_search, length(y_search))\n",
      "end"
     ],
     "language": "python",
     "metadata": {},
     "outputs": [],
     "prompt_number": 50
    },
    {
     "cell_type": "code",
     "collapsed": false,
     "input": [
      "y_search"
     ],
     "language": "python",
     "metadata": {},
     "outputs": [
      {
       "metadata": {},
       "output_type": "pyout",
       "prompt_number": 51,
       "text": [
        "3965-element Array{Float64,1}:\n",
        " 0.300023\n",
        " 0.300111\n",
        " 0.30013 \n",
        " 0.300304\n",
        " 0.300308\n",
        " 0.300374\n",
        " 0.300541\n",
        " 0.300634\n",
        " 0.300725\n",
        " 0.300741\n",
        " 0.300789\n",
        " 0.300837\n",
        " 0.300895\n",
        " \u22ee       \n",
        " 0.698703\n",
        " 0.69886 \n",
        " 0.698936\n",
        " 0.698948\n",
        " 0.699027\n",
        " 0.699214\n",
        " 0.699274\n",
        " 0.699334\n",
        " 0.699466\n",
        " 0.699479\n",
        " 0.69971 \n",
        " 0.699966"
       ]
      }
     ],
     "prompt_number": 51
    },
    {
     "cell_type": "code",
     "collapsed": false,
     "input": [],
     "language": "python",
     "metadata": {},
     "outputs": [],
     "prompt_number": 52
    }
   ],
   "metadata": {}
  }
 ]
}