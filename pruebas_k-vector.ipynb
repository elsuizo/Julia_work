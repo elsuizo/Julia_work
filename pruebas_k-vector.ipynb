{
 "metadata": {
  "language": "Julia",
  "name": "",
  "signature": "sha256:a1abb24302d714c245504cecc447adc837659a136771a245afc099416c1a1f34"
 },
 "nbformat": 3,
 "nbformat_minor": 0,
 "worksheets": [
  {
   "cells": [
    {
     "cell_type": "code",
     "collapsed": false,
     "input": [],
     "language": "python",
     "metadata": {},
     "outputs": [],
     "prompt_number": 1
    },
    {
     "cell_type": "markdown",
     "metadata": {},
     "source": [
      "K-vector search technique with Julia \n",
      "----------------------\n",
      "\n",
      "\n"
     ]
    },
    {
     "cell_type": "markdown",
     "metadata": {},
     "source": [
      "Based : \"A K-VECTOR APPROACH TO SAMPLING, INTERPOLATION, AND\n",
      "APPROXIMATION\" Daniele Mortari and Jonathan Rogers"
     ]
    },
    {
     "cell_type": "markdown",
     "metadata": {},
     "source": [
      "Start with the pre-processing of the algorithm"
     ]
    },
    {
     "cell_type": "code",
     "collapsed": false,
     "input": [
      "const n = 10000  # number of elements in data-base"
     ],
     "language": "python",
     "metadata": {},
     "outputs": [
      {
       "metadata": {},
       "output_type": "pyout",
       "prompt_number": 2,
       "text": [
        "10000"
       ]
      }
     ],
     "prompt_number": 2
    },
    {
     "cell_type": "code",
     "collapsed": false,
     "input": [
      "y = Array(Float64,n)  # data-base\n",
      "s = Array(Float64,n) # vector store the data-base sorted\n",
      "z = Array(Float64,n) \n",
      "#i = zeros(n)  # index of sorting\n",
      "k = Array(Int64,n)  # k-vector\n",
      "y_search = Array(Float64,n)  # search vector\n",
      "vec_aux = falses(n)  # \n",
      "epsilon = eps(Float64)  # precision machine\n",
      "delta_epsilon = (n - 1) * epsilon"
     ],
     "language": "python",
     "metadata": {},
     "outputs": [
      {
       "metadata": {},
       "output_type": "pyout",
       "prompt_number": 3,
       "text": [
        "2.220224004645388e-12"
       ]
      }
     ],
     "prompt_number": 3
    },
    {
     "cell_type": "code",
     "collapsed": false,
     "input": [
      "# generating a random data-base of float \\in (0,1)\n",
      "y = rand(n);"
     ],
     "language": "python",
     "metadata": {},
     "outputs": [],
     "prompt_number": 3
    },
    {
     "cell_type": "code",
     "collapsed": false,
     "input": [
      "s = sort(y);"
     ],
     "language": "python",
     "metadata": {},
     "outputs": [],
     "prompt_number": 3
    },
    {
     "cell_type": "code",
     "collapsed": false,
     "input": [
      "v_min = s[1] :: Float64\n",
      "v_max = s[end] :: Float64"
     ],
     "language": "python",
     "metadata": {},
     "outputs": [
      {
       "metadata": {},
       "output_type": "pyout",
       "prompt_number": 4,
       "text": [
        "0.9999781018044533"
       ]
      }
     ],
     "prompt_number": 4
    },
    {
     "cell_type": "code",
     "collapsed": false,
     "input": [
      "m = ( (v_max - v_min + 2 * delta_epsilon) / (n - 1)  ) :: Float64"
     ],
     "language": "python",
     "metadata": {},
     "outputs": [
      {
       "metadata": {},
       "output_type": "pyout",
       "prompt_number": 5,
       "text": [
        "0.00010000380472369721"
       ]
      }
     ],
     "prompt_number": 5
    },
    {
     "cell_type": "code",
     "collapsed": false,
     "input": [
      "q = (v_min - m - delta_epsilon ) :: Float64"
     ],
     "language": "python",
     "metadata": {},
     "outputs": [
      {
       "metadata": {},
       "output_type": "pyout",
       "prompt_number": 6,
       "text": [
        "-5.99454302985857e-5"
       ]
      }
     ],
     "prompt_number": 6
    },
    {
     "cell_type": "code",
     "collapsed": false,
     "input": [
      "# fast \u00a1\u00a1\n",
      "z = m .* [1:n] .+ q\n"
     ],
     "language": "python",
     "metadata": {},
     "outputs": [
      {
       "metadata": {},
       "output_type": "pyout",
       "prompt_number": 7,
       "text": [
        "10000-element Array{Float64,1}:\n",
        " 4.00584e-5 \n",
        " 0.000140062\n",
        " 0.000240066\n",
        " 0.00034007 \n",
        " 0.000440074\n",
        " 0.000540077\n",
        " 0.000640081\n",
        " 0.000740085\n",
        " 0.000840089\n",
        " 0.000940093\n",
        " 0.0010401  \n",
        " 0.0011401  \n",
        " 0.0012401  \n",
        " \u22ee          \n",
        " 0.998878   \n",
        " 0.998978   \n",
        " 0.999078   \n",
        " 0.999178   \n",
        " 0.999278   \n",
        " 0.999378   \n",
        " 0.999478   \n",
        " 0.999578   \n",
        " 0.999678   \n",
        " 0.999778   \n",
        " 0.999878   \n",
        " 0.999978   "
       ]
      }
     ],
     "prompt_number": 7
    },
    {
     "cell_type": "code",
     "collapsed": false,
     "input": [
      "k[1] = 0 ;\n",
      "k[end] = n;"
     ],
     "language": "python",
     "metadata": {},
     "outputs": [],
     "prompt_number": 7
    },
    {
     "cell_type": "code",
     "collapsed": false,
     "input": [
      "tic()\n",
      "for i in 2:n-1\n",
      "    vec_aux = s .< z[i]\n",
      "    #k[i]  = length(nonzeros(vec_aux)) \n",
      "    k[i] = sum(vec_aux)\n",
      "end\n",
      "toc()\n",
      "k"
     ],
     "language": "python",
     "metadata": {},
     "outputs": [
      {
       "output_type": "stream",
       "stream": "stdout",
       "text": [
        "elapsed time: 0."
       ]
      },
      {
       "output_type": "stream",
       "stream": "stdout",
       "text": [
        "487522096 seconds\n"
       ]
      },
      {
       "metadata": {},
       "output_type": "pyout",
       "prompt_number": 8,
       "text": [
        "10000-element Array{Int64,1}:\n",
        "     0\n",
        "     2\n",
        "     3\n",
        "     4\n",
        "     6\n",
        "     8\n",
        "    11\n",
        "    11\n",
        "    12\n",
        "    13\n",
        "    13\n",
        "    14\n",
        "    16\n",
        "     \u22ee\n",
        "  9981\n",
        "  9982\n",
        "  9987\n",
        "  9989\n",
        "  9991\n",
        "  9992\n",
        "  9994\n",
        "  9996\n",
        "  9997\n",
        "  9997\n",
        "  9998\n",
        " 10000"
       ]
      }
     ],
     "prompt_number": 8
    },
    {
     "cell_type": "code",
     "collapsed": false,
     "input": [
      "function k_vector(s :: Array{Float64,1},z :: Array{Float64,1})\n",
      "        \n",
      "    k = Int64[sum(s .< z[i]) for i = 2:n-1]    \n",
      "    return k\n",
      "end  \n",
      "        "
     ],
     "language": "python",
     "metadata": {},
     "outputs": [
      {
       "metadata": {},
       "output_type": "pyout",
       "prompt_number": 9,
       "text": [
        "k_vector (generic function with 1 method)"
       ]
      }
     ],
     "prompt_number": 9
    },
    {
     "cell_type": "code",
     "collapsed": false,
     "input": [
      "#@vectorize_2arg Array, Array k_vector"
     ],
     "language": "python",
     "metadata": {},
     "outputs": [],
     "prompt_number": 10
    },
    {
     "cell_type": "code",
     "collapsed": false,
     "input": [
      "function k_vector2(s, z)\n",
      "    n = length(s)\n",
      "    k = Array(Int64, n-2)\n",
      "    for i = 2:n-1\n",
      "        c = 0\n",
      "        for j = 1:n\n",
      "            c += s[j] < z[i]\n",
      "        end\n",
      "        k[i-1] = c\n",
      "    end\n",
      "    return k\n",
      "end"
     ],
     "language": "python",
     "metadata": {},
     "outputs": [
      {
       "metadata": {},
       "output_type": "pyout",
       "prompt_number": 11,
       "text": [
        "k_vector2 (generic function with 1 method)"
       ]
      }
     ],
     "prompt_number": 11
    },
    {
     "cell_type": "code",
     "collapsed": false,
     "input": [
      "tic()\n",
      "k3 = k_vector2(s :: Array{Float64},z :: Array{Float64,1})\n",
      "toc()\n",
      "k3"
     ],
     "language": "python",
     "metadata": {},
     "outputs": [
      {
       "output_type": "stream",
       "stream": "stdout",
       "text": [
        "elapsed time: "
       ]
      },
      {
       "output_type": "stream",
       "stream": "stdout",
       "text": [
        "0.21200481 seconds\n"
       ]
      },
      {
       "metadata": {},
       "output_type": "pyout",
       "prompt_number": 12,
       "text": [
        "9998-element Array{Int64,1}:\n",
        "    2\n",
        "    3\n",
        "    4\n",
        "    6\n",
        "    8\n",
        "   11\n",
        "   11\n",
        "   12\n",
        "   13\n",
        "   13\n",
        "   14\n",
        "   16\n",
        "   17\n",
        "    \u22ee\n",
        " 9978\n",
        " 9981\n",
        " 9982\n",
        " 9987\n",
        " 9989\n",
        " 9991\n",
        " 9992\n",
        " 9994\n",
        " 9996\n",
        " 9997\n",
        " 9997\n",
        " 9998"
       ]
      }
     ],
     "prompt_number": 12
    },
    {
     "cell_type": "code",
     "collapsed": false,
     "input": [
      "tic()\n",
      "k2 = k_vector(s :: Array{Float64,1}, z:: Array{Float64,1})\n",
      "toc()"
     ],
     "language": "python",
     "metadata": {},
     "outputs": [
      {
       "output_type": "stream",
       "stream": "stdout",
       "text": [
        "elapsed time: "
       ]
      },
      {
       "output_type": "stream",
       "stream": "stdout",
       "text": [
        "0.423019073 seconds\n"
       ]
      },
      {
       "metadata": {},
       "output_type": "pyout",
       "prompt_number": 13,
       "text": [
        "0.423019073"
       ]
      }
     ],
     "prompt_number": 13
    },
    {
     "cell_type": "code",
     "collapsed": false,
     "input": [
      "\n",
      "#k3 = zeros(Int64, n)\n",
      "\n",
      "tic()\n",
      "k3 = Int64[ sum(s .< z[i]) for i = 2:n-1]\n",
      "toc()\n",
      "\n",
      "append!([0],k3)"
     ],
     "language": "python",
     "metadata": {},
     "outputs": [
      {
       "output_type": "stream",
       "stream": "stdout",
       "text": [
        "elapsed time: "
       ]
      },
      {
       "output_type": "stream",
       "stream": "stdout",
       "text": [
        "0.381633742 seconds\n"
       ]
      },
      {
       "metadata": {},
       "output_type": "pyout",
       "prompt_number": 14,
       "text": [
        "9999-element Array{Int64,1}:\n",
        "    0\n",
        "    2\n",
        "    3\n",
        "    4\n",
        "    6\n",
        "    8\n",
        "   11\n",
        "   11\n",
        "   12\n",
        "   13\n",
        "   13\n",
        "   14\n",
        "   16\n",
        "    \u22ee\n",
        " 9978\n",
        " 9981\n",
        " 9982\n",
        " 9987\n",
        " 9989\n",
        " 9991\n",
        " 9992\n",
        " 9994\n",
        " 9996\n",
        " 9997\n",
        " 9997\n",
        " 9998"
       ]
      }
     ],
     "prompt_number": 14
    },
    {
     "cell_type": "code",
     "collapsed": false,
     "input": [
      "# Range of Search \n",
      "y_a = .3 \n",
      "y_b = .7\n"
     ],
     "language": "python",
     "metadata": {},
     "outputs": [
      {
       "metadata": {},
       "output_type": "pyout",
       "prompt_number": 15,
       "text": [
        "0.7"
       ]
      }
     ],
     "prompt_number": 15
    },
    {
     "cell_type": "code",
     "collapsed": false,
     "input": [
      "j_b = floor((y_a - q ) / m)\n",
      "j_t = ceil((y_b - q ) / m)\n"
     ],
     "language": "python",
     "metadata": {},
     "outputs": [
      {
       "metadata": {},
       "output_type": "pyout",
       "prompt_number": 16,
       "text": [
        "7001.0"
       ]
      }
     ],
     "prompt_number": 16
    },
    {
     "cell_type": "code",
     "collapsed": false,
     "input": [
      "k_start = k[j_b] + 1\n",
      "k_end = k[j_t]\n",
      "\n",
      "k_search = k_start:k_end\n",
      "\n",
      "y_search = s[k_search]"
     ],
     "language": "python",
     "metadata": {},
     "outputs": [
      {
       "metadata": {},
       "output_type": "pyout",
       "prompt_number": 17,
       "text": [
        "3955-element Array{Float64,1}:\n",
        " 0.30019 \n",
        " 0.300192\n",
        " 0.300204\n",
        " 0.300381\n",
        " 0.300427\n",
        " 0.300579\n",
        " 0.30085 \n",
        " 0.300865\n",
        " 0.30091 \n",
        " 0.301015\n",
        " 0.301068\n",
        " 0.301139\n",
        " 0.301294\n",
        " \u22ee       \n",
        " 0.699267\n",
        " 0.699392\n",
        " 0.699438\n",
        " 0.699486\n",
        " 0.69958 \n",
        " 0.69963 \n",
        " 0.699667\n",
        " 0.699668\n",
        " 0.699794\n",
        " 0.69983 \n",
        " 0.699973\n",
        " 0.700043"
       ]
      }
     ],
     "prompt_number": 17
    },
    {
     "cell_type": "code",
     "collapsed": false,
     "input": [
      "if y_search[1] < y_a \n",
      "   deleteat!(y_search, 1)\n",
      "end \n",
      "\n",
      "if y_search[end] > y_b \n",
      "deleteat!(y_search, length(y_search))\n",
      "end"
     ],
     "language": "python",
     "metadata": {},
     "outputs": [
      {
       "metadata": {},
       "output_type": "pyout",
       "prompt_number": 18,
       "text": [
        "3954-element Array{Float64,1}:\n",
        " 0.30019 \n",
        " 0.300192\n",
        " 0.300204\n",
        " 0.300381\n",
        " 0.300427\n",
        " 0.300579\n",
        " 0.30085 \n",
        " 0.300865\n",
        " 0.30091 \n",
        " 0.301015\n",
        " 0.301068\n",
        " 0.301139\n",
        " 0.301294\n",
        " \u22ee       \n",
        " 0.699195\n",
        " 0.699267\n",
        " 0.699392\n",
        " 0.699438\n",
        " 0.699486\n",
        " 0.69958 \n",
        " 0.69963 \n",
        " 0.699667\n",
        " 0.699668\n",
        " 0.699794\n",
        " 0.69983 \n",
        " 0.699973"
       ]
      }
     ],
     "prompt_number": 18
    },
    {
     "cell_type": "code",
     "collapsed": false,
     "input": [
      "y_search"
     ],
     "language": "python",
     "metadata": {},
     "outputs": [
      {
       "metadata": {},
       "output_type": "pyout",
       "prompt_number": 19,
       "text": [
        "3954-element Array{Float64,1}:\n",
        " 0.30019 \n",
        " 0.300192\n",
        " 0.300204\n",
        " 0.300381\n",
        " 0.300427\n",
        " 0.300579\n",
        " 0.30085 \n",
        " 0.300865\n",
        " 0.30091 \n",
        " 0.301015\n",
        " 0.301068\n",
        " 0.301139\n",
        " 0.301294\n",
        " \u22ee       \n",
        " 0.699195\n",
        " 0.699267\n",
        " 0.699392\n",
        " 0.699438\n",
        " 0.699486\n",
        " 0.69958 \n",
        " 0.69963 \n",
        " 0.699667\n",
        " 0.699668\n",
        " 0.699794\n",
        " 0.69983 \n",
        " 0.699973"
       ]
      }
     ],
     "prompt_number": 19
    },
    {
     "cell_type": "code",
     "collapsed": false,
     "input": [
      "whos()"
     ],
     "language": "python",
     "metadata": {},
     "outputs": [
      {
       "output_type": "stream",
       "stream": "stdout",
       "text": [
        "Base                          "
       ]
      },
      {
       "output_type": "stream",
       "stream": "stdout",
       "text": [
        "Module\n",
        "Core                          Module\n",
        "IJulia                        Module\n",
        "IPythonDisplay                Module\n",
        "JSON                          Module\n",
        "Main                          Module\n",
        "Nettle                        Module\n",
        "REPLCompletions               Module\n",
        "ZMQ                           Module\n",
        "_11                           Function\n",
        "_12                           9998-element Array{Int64,1}\n",
        "_13                           Float64\n",
        "_14                           9999-element Array{Int64,1}\n",
        "_15                           Float64\n",
        "_16                           Float64\n",
        "_17                           3954-element Array{Float64,1}\n",
        "_18                           3954-element Array{Float64,1}\n",
        "_19                           3954-element Array{Float64,1}\n",
        "_2                            Int64\n",
        "_3                            Float64\n",
        "_4                            Float64\n",
        "_5                            Float64\n",
        "_6                            Float64\n",
        "_7                            10000-element Array{Float64,1}\n",
        "_8                            10000-element Array{Int64,1}\n",
        "_9                            Function\n",
        "delta_epsilon                 Float64\n",
        "epsilon                       Float64\n",
        "j_b                           Float64\n",
        "j_t                           Float64\n",
        "k                             10000-element Array{Int64,1}\n",
        "k2                            9998-element Array{Int64,1}\n",
        "k3                            9998-element Array{Int64,1}\n",
        "k_end                         Int64\n",
        "k_search                      3955-element UnitRange{Int64}\n",
        "k_start                       Int64\n",
        "k_vector                      Function\n",
        "k_vector2                     Function\n",
        "m                             Float64\n",
        "n                             Int64\n",
        "q                             Float64\n",
        "s                             10000-element Array{Float64,1}\n",
        "v_max                         Float64\n",
        "v_min                         Float64\n",
        "vec_aux                       10000-element BitArray{1}\n",
        "y                             10000-element Array{Float64,1}\n",
        "y_a                           Float64\n",
        "y_b                           Float64\n",
        "y_search                      3954-element Array{Float64,1}\n",
        "z                             10000-element Array{Float64,1}\n"
       ]
      }
     ],
     "prompt_number": 20
    },
    {
     "cell_type": "code",
     "collapsed": false,
     "input": [
      "help(append!)"
     ],
     "language": "python",
     "metadata": {},
     "outputs": [
      {
       "output_type": "stream",
       "stream": "stderr",
       "text": [
        "INFO: Loading help data..."
       ]
      },
      {
       "output_type": "stream",
       "stream": "stderr",
       "text": [
        "\n"
       ]
      },
      {
       "output_type": "stream",
       "stream": "stdout",
       "text": [
        "Base.append!(collection, items) -> collection.\n",
        "\n",
        "   Add the elements of \"items\" to the end of a collection.\n",
        "   \"append!([1],[2,3]) => [1,2,3]\"\n"
       ]
      }
     ],
     "prompt_number": 21
    },
    {
     "cell_type": "code",
     "collapsed": false,
     "input": [],
     "language": "python",
     "metadata": {},
     "outputs": [],
     "prompt_number": 22
    }
   ],
   "metadata": {}
  }
 ]
}