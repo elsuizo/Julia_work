{
 "metadata": {
  "language": "Julia",
  "name": "",
  "signature": "sha256:b7b15706d67abf3436d565fe3ba71ad13702586e7df6516bdcf31b26625052f9"
 },
 "nbformat": 3,
 "nbformat_minor": 0,
 "worksheets": [
  {
   "cells": [
    {
     "cell_type": "markdown",
     "metadata": {},
     "source": [
      "K-vector search technique with Julia \n",
      "----------------------\n",
      "\n",
      "\n"
     ]
    },
    {
     "cell_type": "markdown",
     "metadata": {},
     "source": [
      "Based : \"A K-VECTOR APPROACH TO SAMPLING, INTERPOLATION, AND\n",
      "APPROXIMATION\" Daniele Mortari and Jonathan Rogers"
     ]
    },
    {
     "cell_type": "markdown",
     "metadata": {},
     "source": [
      "Start with the pre-processing of the algorithm"
     ]
    },
    {
     "cell_type": "code",
     "collapsed": false,
     "input": [
      "const n = 1000 # number of elements in data-base"
     ],
     "language": "python",
     "metadata": {},
     "outputs": [
      {
       "metadata": {},
       "output_type": "pyout",
       "prompt_number": 19,
       "text": [
        "1000"
       ]
      }
     ],
     "prompt_number": 19
    },
    {
     "cell_type": "code",
     "collapsed": false,
     "input": [
      "y = zeros(n)  # data-base\n",
      "s = zeros(n)  # vector store the data-base sorted\n",
      "i = zeros(n)  # index of sorting\n",
      "k = zeros(n)  # k-vector\n",
      "y_search = zeros(n)  # search vector\n",
      "vec_aux = zeros(n)   # \n",
      "epsilon = eps(Float64)  # precision machine\n",
      "delta_epsilon = (n - 1) * epsilon"
     ],
     "language": "python",
     "metadata": {},
     "outputs": [
      {
       "metadata": {},
       "output_type": "pyout",
       "prompt_number": 20,
       "text": [
        "2.2182256032010628e-13"
       ]
      }
     ],
     "prompt_number": 20
    },
    {
     "cell_type": "code",
     "collapsed": false,
     "input": [
      "# generating a random data-base of float \\in (0,1)\n",
      "y = rand(n);"
     ],
     "language": "python",
     "metadata": {},
     "outputs": [],
     "prompt_number": 20
    },
    {
     "cell_type": "code",
     "collapsed": false,
     "input": [
      "s = sort(y);"
     ],
     "language": "python",
     "metadata": {},
     "outputs": [],
     "prompt_number": 20
    },
    {
     "cell_type": "code",
     "collapsed": false,
     "input": [
      "v_min = s[1];\n",
      "v_max = s[end];"
     ],
     "language": "python",
     "metadata": {},
     "outputs": [],
     "prompt_number": 20
    },
    {
     "cell_type": "code",
     "collapsed": false,
     "input": [
      "m = (v_max - v_min + 2 * delta_epsilon) / (n - 1);"
     ],
     "language": "python",
     "metadata": {},
     "outputs": [],
     "prompt_number": 20
    },
    {
     "cell_type": "code",
     "collapsed": false,
     "input": [
      "q = v_min - m - delta_epsilon;"
     ],
     "language": "python",
     "metadata": {},
     "outputs": [],
     "prompt_number": 20
    },
    {
     "cell_type": "code",
     "collapsed": false,
     "input": [
      "# anonymous function \n",
      "z = map(x -> m * x + q, [1:n]);"
     ],
     "language": "python",
     "metadata": {},
     "outputs": [],
     "prompt_number": 23
    },
    {
     "cell_type": "code",
     "collapsed": false,
     "input": [
      "k[1] = 0 ;\n",
      "k[end] = n;"
     ],
     "language": "python",
     "metadata": {},
     "outputs": [],
     "prompt_number": 23
    },
    {
     "cell_type": "code",
     "collapsed": false,
     "input": [
      "# K-vector construction\n",
      "for aux in [2:n]\n",
      "    \n",
      "    \n",
      "end"
     ],
     "language": "python",
     "metadata": {},
     "outputs": [
      {
       "ename": "LoadError",
       "evalue": "no method isless(Array{Float64,1}, Float64)\nwhile loading In[27], in expression starting on line 1",
       "output_type": "pyerr",
       "traceback": [
        "no method isless(Array{Float64,1}, Float64)\nwhile loading In[27], in expression starting on line 1",
        " in < at operators.jl:18",
        " in anonymous at no file:2"
       ]
      }
     ],
     "prompt_number": 27
    },
    {
     "cell_type": "code",
     "collapsed": false,
     "input": [
      "s < 0.3"
     ],
     "language": "python",
     "metadata": {},
     "outputs": [
      {
       "ename": "LoadError",
       "evalue": "no method isless(Array{Float64,1}, Float64)\nwhile loading In[30], in expression starting on line 1",
       "output_type": "pyerr",
       "traceback": [
        "no method isless(Array{Float64,1}, Float64)\nwhile loading In[30], in expression starting on line 1",
        " in < at operators.jl:18"
       ]
      }
     ],
     "prompt_number": 30
    },
    {
     "cell_type": "code",
     "collapsed": false,
     "input": [
      "s"
     ],
     "language": "python",
     "metadata": {},
     "outputs": [
      {
       "metadata": {},
       "output_type": "pyout",
       "prompt_number": 31,
       "text": [
        "1000-element Array{Float64,1}:\n",
        " 0.000212361\n",
        " 0.000955393\n",
        " 0.00113101 \n",
        " 0.00368291 \n",
        " 0.00407392 \n",
        " 0.00429824 \n",
        " 0.00631214 \n",
        " 0.00647004 \n",
        " 0.00706826 \n",
        " 0.00774125 \n",
        " 0.0080395  \n",
        " 0.00938019 \n",
        " 0.00970575 \n",
        " \u22ee          \n",
        " 0.988784   \n",
        " 0.989209   \n",
        " 0.990348   \n",
        " 0.992105   \n",
        " 0.993068   \n",
        " 0.994668   \n",
        " 0.995245   \n",
        " 0.995411   \n",
        " 0.997028   \n",
        " 0.99803    \n",
        " 0.999391   \n",
        " 0.99941    "
       ]
      }
     ],
     "prompt_number": 31
    },
    {
     "cell_type": "code",
     "collapsed": false,
     "input": [],
     "language": "python",
     "metadata": {},
     "outputs": []
    }
   ],
   "metadata": {}
  }
 ]
}