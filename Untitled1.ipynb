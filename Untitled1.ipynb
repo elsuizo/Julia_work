{
 "metadata": {
  "language": "Julia",
  "name": "",
  "signature": "sha256:b67721b03aadfcd4aecef249f41bb70cab971aa7477ba65846805ffdea02db8e"
 },
 "nbformat": 3,
 "nbformat_minor": 0,
 "worksheets": [
  {
   "cells": [
    {
     "cell_type": "markdown",
     "metadata": {},
     "source": [
      "Queremos graficar el retrato de fase del siguiente sistema no lineal:\n",
      "\n",
      "$$\\ddot{y}+sin(y)=0$$\n",
      "\n",
      "que en variables de estado se transforma en :\n",
      "\n",
      "$$\\left\\{ \\begin{array}{lcc}\n",
      "            \\dot{y}_{1}=y_{2}\\\\\n",
      "             \\\\ \\dot{y_2}=-sin{y_{1}}\n",
      "             \\end{array}\n",
      "\\right.$$"
     ]
    },
    {
     "cell_type": "code",
     "collapsed": false,
     "input": [
      "using PyPlot"
     ],
     "language": "python",
     "metadata": {},
     "outputs": [
      {
       "output_type": "stream",
       "stream": "stderr",
       "text": [
        "INFO: Loading help data...\n"
       ]
      }
     ],
     "prompt_number": 1
    },
    {
     "cell_type": "code",
     "collapsed": false,
     "input": [
      "function f(Y,t)\n",
      "    y1, y2 = Y\n",
      "    return [y2, -sin(y1)]\n",
      "end"
     ],
     "language": "python",
     "metadata": {},
     "outputs": [
      {
       "metadata": {},
       "output_type": "pyout",
       "prompt_number": 2,
       "text": [
        "f (generic function with 1 method)"
       ]
      }
     ],
     "prompt_number": 2
    },
    {
     "cell_type": "code",
     "collapsed": false,
     "input": [
      "y1 = linspace(-2.0, 8.0, 20);\n",
      "y2 = linspace(-2.0, 2.0, 20);"
     ],
     "language": "python",
     "metadata": {},
     "outputs": [],
     "prompt_number": 3
    },
    {
     "cell_type": "code",
     "collapsed": false,
     "input": [
      "C = [[x,y] for x in y1, y in y2]"
     ],
     "language": "python",
     "metadata": {},
     "outputs": [
      {
       "metadata": {},
       "output_type": "pyout",
       "prompt_number": 4,
       "text": [
        "20x20 Array{Any,2}:\n",
        " [-2.0,-2.0]       [-2.0,-1.78947]       \u2026  [-2.0,2.0]     \n",
        " [-1.47368,-2.0]   [-1.47368,-1.78947]      [-1.47368,2.0] \n",
        " [-0.947368,-2.0]  [-0.947368,-1.78947]     [-0.947368,2.0]\n",
        " [-0.421053,-2.0]  [-0.421053,-1.78947]     [-0.421053,2.0]\n",
        " [0.105263,-2.0]   [0.105263,-1.78947]      [0.105263,2.0] \n",
        " [0.631579,-2.0]   [0.631579,-1.78947]   \u2026  [0.631579,2.0] \n",
        " [1.15789,-2.0]    [1.15789,-1.78947]       [1.15789,2.0]  \n",
        " [1.68421,-2.0]    [1.68421,-1.78947]       [1.68421,2.0]  \n",
        " [2.21053,-2.0]    [2.21053,-1.78947]       [2.21053,2.0]  \n",
        " [2.73684,-2.0]    [2.73684,-1.78947]       [2.73684,2.0]  \n",
        " [3.26316,-2.0]    [3.26316,-1.78947]    \u2026  [3.26316,2.0]  \n",
        " [3.78947,-2.0]    [3.78947,-1.78947]       [3.78947,2.0]  \n",
        " [4.31579,-2.0]    [4.31579,-1.78947]       [4.31579,2.0]  \n",
        " [4.84211,-2.0]    [4.84211,-1.78947]       [4.84211,2.0]  \n",
        " [5.36842,-2.0]    [5.36842,-1.78947]       [5.36842,2.0]  \n",
        " [5.89474,-2.0]    [5.89474,-1.78947]    \u2026  [5.89474,2.0]  \n",
        " [6.42105,-2.0]    [6.42105,-1.78947]       [6.42105,2.0]  \n",
        " [6.94737,-2.0]    [6.94737,-1.78947]       [6.94737,2.0]  \n",
        " [7.47368,-2.0]    [7.47368,-1.78947]       [7.47368,2.0]  \n",
        " [8.0,-2.0]        [8.0,-1.78947]           [8.0,2.0]      "
       ]
      }
     ],
     "prompt_number": 4
    },
    {
     "cell_type": "code",
     "collapsed": false,
     "input": [
      "t = 0"
     ],
     "language": "python",
     "metadata": {},
     "outputs": [
      {
       "metadata": {},
       "output_type": "pyout",
       "prompt_number": 16,
       "text": [
        "0"
       ]
      }
     ],
     "prompt_number": 16
    },
    {
     "cell_type": "code",
     "collapsed": false,
     "input": [
      "Z = [f([x,y],t) for x in y1, y in y2]"
     ],
     "language": "python",
     "metadata": {},
     "outputs": [
      {
       "metadata": {},
       "output_type": "pyout",
       "prompt_number": 17,
       "text": [
        "20x20 Array{Any,2}:\n",
        " [-2.0,0.909297]   [-1.78947,0.909297]   \u2026  [2.0,0.909297] \n",
        " [-2.0,0.995288]   [-1.78947,0.995288]      [2.0,0.995288] \n",
        " [-2.0,0.811882]   [-1.78947,0.811882]      [2.0,0.811882] \n",
        " [-2.0,0.408721]   [-1.78947,0.408721]      [2.0,0.408721] \n",
        " [-2.0,-0.105069]  [-1.78947,-0.105069]     [2.0,-0.105069]\n",
        " [-2.0,-0.59042]   [-1.78947,-0.59042]   \u2026  [2.0,-0.59042] \n",
        " [-2.0,-0.91596]   [-1.78947,-0.91596]      [2.0,-0.91596] \n",
        " [-2.0,-0.993576]  [-1.78947,-0.993576]     [2.0,-0.993576]\n",
        " [-2.0,-0.802257]  [-1.78947,-0.802257]     [2.0,-0.802257]\n",
        " [-2.0,-0.393789]  [-1.78947,-0.393789]     [2.0,-0.393789]\n",
        " [-2.0,0.121266]   [-1.78947,0.121266]   \u2026  [2.0,0.121266] \n",
        " [-2.0,0.603498]   [-1.78947,0.603498]      [2.0,0.603498] \n",
        " [-2.0,0.92238]    [-1.78947,0.92238]       [2.0,0.92238]  \n",
        " [-2.0,0.991599]   [-1.78947,0.991599]      [2.0,0.991599] \n",
        " [-2.0,0.792419]   [-1.78947,0.792419]      [2.0,0.792419] \n",
        " [-2.0,0.378753]   [-1.78947,0.378753]   \u2026  [2.0,0.378753] \n",
        " [-2.0,-0.137431]  [-1.78947,-0.137431]     [2.0,-0.137431]\n",
        " [-2.0,-0.616416]  [-1.78947,-0.616416]     [2.0,-0.616416]\n",
        " [-2.0,-0.928554]  [-1.78947,-0.928554]     [2.0,-0.928554]\n",
        " [-2.0,-0.989358]  [-1.78947,-0.989358]     [2.0,-0.989358]"
       ]
      }
     ],
     "prompt_number": 17
    },
    {
     "cell_type": "code",
     "collapsed": false,
     "input": [
      "quiver(C,Z)"
     ],
     "language": "python",
     "metadata": {},
     "outputs": [
      {
       "ename": "LoadError",
       "evalue": "PyError (:PyObject_Call) <type 'exceptions.ValueError'>\nValueError('too many values to unpack',)\n  File \"/home/elsuizo/anaconda/lib/python2.7/site-packages/matplotlib/pyplot.py\", line 3154, in quiver\n    ret = ax.quiver(*args, **kw)\n  File \"/home/elsuizo/anaconda/lib/python2.7/site-packages/matplotlib/axes/_axes.py\", line 4164, in quiver\n    q = mquiver.Quiver(self, *args, **kw)\n  File \"/home/elsuizo/anaconda/lib/python2.7/site-packages/matplotlib/quiver.py\", line 417, in __init__\n    X, Y, U, V, C = _parse_args(*args)\n  File \"/home/elsuizo/anaconda/lib/python2.7/site-packages/matplotlib/quiver.py\", line 379, in _parse_args\n    nr, nc = U.shape\n\nwhile loading In[18], in expression starting on line 1",
       "output_type": "pyerr",
       "traceback": [
        "PyError (:PyObject_Call) <type 'exceptions.ValueError'>\nValueError('too many values to unpack',)\n  File \"/home/elsuizo/anaconda/lib/python2.7/site-packages/matplotlib/pyplot.py\", line 3154, in quiver\n    ret = ax.quiver(*args, **kw)\n  File \"/home/elsuizo/anaconda/lib/python2.7/site-packages/matplotlib/axes/_axes.py\", line 4164, in quiver\n    q = mquiver.Quiver(self, *args, **kw)\n  File \"/home/elsuizo/anaconda/lib/python2.7/site-packages/matplotlib/quiver.py\", line 417, in __init__\n    X, Y, U, V, C = _parse_args(*args)\n  File \"/home/elsuizo/anaconda/lib/python2.7/site-packages/matplotlib/quiver.py\", line 379, in _parse_args\n    nr, nc = U.shape\n\nwhile loading In[18], in expression starting on line 1",
        "",
        " in getindex at /home/elsuizo/.julia/v0.3/PyCall/src/PyCall.jl:249",
        " in pysequence_query at /home/elsuizo/.julia/v0.3/PyCall/src/conversions.jl:748",
        " in pytype_query at /home/elsuizo/.julia/v0.3/PyCall/src/conversions.jl:764",
        " in convert at /home/elsuizo/.julia/v0.3/PyCall/src/conversions.jl:814",
        " in pycall at /home/elsuizo/.julia/v0.3/PyCall/src/PyCall.jl:412",
        " in fn at /home/elsuizo/.julia/v0.3/PyCall/src/conversions.jl:181",
        " in close_queued_figs at /home/elsuizo/.julia/v0.3/PyPlot/src/PyPlot.jl:295"
       ]
      }
     ],
     "prompt_number": 18
    },
    {
     "cell_type": "code",
     "collapsed": false,
     "input": [
      "typeof(Z)"
     ],
     "language": "python",
     "metadata": {},
     "outputs": [
      {
       "ename": "LoadError",
       "evalue": "Z not defined\nwhile loading In[7], in expression starting on line 1",
       "output_type": "pyerr",
       "traceback": [
        "Z not defined\nwhile loading In[7], in expression starting on line 1",
        ""
       ]
      }
     ],
     "prompt_number": 7
    },
    {
     "cell_type": "code",
     "collapsed": false,
     "input": [
      "rand(2)"
     ],
     "language": "python",
     "metadata": {},
     "outputs": [
      {
       "metadata": {},
       "output_type": "pyout",
       "prompt_number": 8,
       "text": [
        "2-element Array{Float64,1}:\n",
        " 0.967422 \n",
        " 0.0617103"
       ]
      }
     ],
     "prompt_number": 8
    },
    {
     "cell_type": "code",
     "collapsed": false,
     "input": [
      "Z[1]"
     ],
     "language": "python",
     "metadata": {},
     "outputs": [
      {
       "ename": "LoadError",
       "evalue": "Z not defined\nwhile loading In[9], in expression starting on line 1",
       "output_type": "pyerr",
       "traceback": [
        "Z not defined\nwhile loading In[9], in expression starting on line 1",
        ""
       ]
      }
     ],
     "prompt_number": 9
    },
    {
     "cell_type": "code",
     "collapsed": false,
     "input": [
      "Z"
     ],
     "language": "python",
     "metadata": {},
     "outputs": [
      {
       "ename": "LoadError",
       "evalue": "Z not defined\nwhile loading In[10], in expression starting on line 1",
       "output_type": "pyerr",
       "traceback": [
        "Z not defined\nwhile loading In[10], in expression starting on line 1",
        ""
       ]
      }
     ],
     "prompt_number": 10
    },
    {
     "cell_type": "code",
     "collapsed": false,
     "input": [
      "im"
     ],
     "language": "python",
     "metadata": {},
     "outputs": [
      {
       "metadata": {},
       "output_type": "pyout",
       "prompt_number": 11,
       "text": [
        "im"
       ]
      }
     ],
     "prompt_number": 11
    },
    {
     "cell_type": "code",
     "collapsed": false,
     "input": [
      "f"
     ],
     "language": "python",
     "metadata": {},
     "outputs": [
      {
       "metadata": {},
       "output_type": "pyout",
       "prompt_number": 12,
       "text": [
        "f (generic function with 1 method)"
       ]
      }
     ],
     "prompt_number": 12
    },
    {
     "cell_type": "code",
     "collapsed": false,
     "input": [
      "g"
     ],
     "language": "python",
     "metadata": {},
     "outputs": [
      {
       "ename": "LoadError",
       "evalue": "g not defined\nwhile loading In[13], in expression starting on line 1",
       "output_type": "pyerr",
       "traceback": [
        "g not defined\nwhile loading In[13], in expression starting on line 1",
        ""
       ]
      }
     ],
     "prompt_number": 13
    },
    {
     "cell_type": "code",
     "collapsed": false,
     "input": [
      "Z"
     ],
     "language": "python",
     "metadata": {},
     "outputs": [
      {
       "ename": "LoadError",
       "evalue": "Z not defined\nwhile loading In[14], in expression starting on line 1",
       "output_type": "pyerr",
       "traceback": [
        "Z not defined\nwhile loading In[14], in expression starting on line 1",
        ""
       ]
      }
     ],
     "prompt_number": 14
    },
    {
     "cell_type": "code",
     "collapsed": false,
     "input": [],
     "language": "python",
     "metadata": {},
     "outputs": [],
     "prompt_number": 15
    }
   ],
   "metadata": {}
  }
 ]
}